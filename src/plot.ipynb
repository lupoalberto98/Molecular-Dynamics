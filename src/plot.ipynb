{
 "cells": [
  {
   "cell_type": "code",
   "execution_count": 1,
   "id": "a69127df",
   "metadata": {},
   "outputs": [],
   "source": [
    "#!/usr/bin/env python3\n",
    "\n",
    "from mpl_toolkits.mplot3d import Axes3D\n",
    "import matplotlib.pyplot as plt\n",
    "import numpy as np\n",
    "\n"
   ]
  },
  {
   "cell_type": "code",
   "execution_count": 9,
   "id": "c7f8ddfa",
   "metadata": {},
   "outputs": [
    {
     "name": "stderr",
     "output_type": "stream",
     "text": [
      "<ipython-input-9-e42027b3d99f>:10: UserWarning: loadtxt: Empty input file: \"MonteCarloLog.txt\"\n",
      "  mc = np.loadtxt(mc_file, delimiter=\" \", usecols=(0, 1, 2), skiprows=0)\n"
     ]
    }
   ],
   "source": [
    "def read_vtk(particles_file, rdf_file, par_file, MC_file, en_file):\n",
    "  global data\n",
    "  global RDF\n",
    "  global par\n",
    "  global mc\n",
    "  global en\n",
    "  data = np.loadtxt(particles_file, delimiter=\" \", usecols=(0, 1, 2, 3, 4, 5, 6, 7, 8, 9, 10), skiprows=0)\n",
    "  #RDF = np.loadtxt(rdf_file, delimiter=\" \", usecols=(0, 1), skiprows=0)\n",
    "  par = np.loadtxt(par_file, delimiter=\" \", usecols=(0, 1, 2, 3), skiprows=0)\n",
    "  mc = np.loadtxt(mc_file, delimiter=\" \", usecols=(0, 1, 2), skiprows=0)\n",
    "  en = np.loadtxt(en_file, delimiter=\" \", usecols=(0, 1, 2, 3), skiprows=0)\n",
    "# x y z (three columns) and a row for each particle\n",
    "\n",
    "particles_file = \"particles.txt\"\n",
    "rdf_file = \"RDF.txt\"\n",
    "par_file = \"vol_parameters.txt\"\n",
    "mc_file = \"MonteCarloLog.txt\"\n",
    "en_file = \"energy.txt\"\n",
    "\n",
    "read_vtk(particles_file, rdf_file, par_file, mc_file, en_file)\n",
    "\n",
    "\n"
   ]
  },
  {
   "cell_type": "code",
   "execution_count": 10,
   "id": "3513a52b",
   "metadata": {},
   "outputs": [
    {
     "ename": "IndexError",
     "evalue": "too many indices for array: array is 1-dimensional, but 2 were indexed",
     "output_type": "error",
     "traceback": [
      "\u001b[0;31m---------------------------------------------------------------------------\u001b[0m",
      "\u001b[0;31mIndexError\u001b[0m                                Traceback (most recent call last)",
      "\u001b[0;32m<ipython-input-10-52d16fcabcbe>\u001b[0m in \u001b[0;36m<module>\u001b[0;34m\u001b[0m\n\u001b[1;32m     21\u001b[0m \u001b[0max3\u001b[0m\u001b[0;34m.\u001b[0m\u001b[0mset_title\u001b[0m\u001b[0;34m(\u001b[0m\u001b[0;34m\"Monte Carlo Simulation\"\u001b[0m\u001b[0;34m)\u001b[0m\u001b[0;34m\u001b[0m\u001b[0;34m\u001b[0m\u001b[0m\n\u001b[1;32m     22\u001b[0m \u001b[0max3\u001b[0m\u001b[0;34m.\u001b[0m\u001b[0mset_xlabel\u001b[0m\u001b[0;34m(\u001b[0m\u001b[0;34m\"Monte Carlo Move\"\u001b[0m\u001b[0;34m)\u001b[0m\u001b[0;34m\u001b[0m\u001b[0;34m\u001b[0m\u001b[0m\n\u001b[0;32m---> 23\u001b[0;31m \u001b[0max3\u001b[0m\u001b[0;34m.\u001b[0m\u001b[0mplot\u001b[0m\u001b[0;34m(\u001b[0m\u001b[0mmc\u001b[0m\u001b[0;34m[\u001b[0m\u001b[0;34m:\u001b[0m\u001b[0;34m,\u001b[0m\u001b[0;36m0\u001b[0m\u001b[0;34m]\u001b[0m\u001b[0;34m,\u001b[0m \u001b[0mmc\u001b[0m\u001b[0;34m[\u001b[0m\u001b[0;34m:\u001b[0m\u001b[0;34m,\u001b[0m\u001b[0;36m1\u001b[0m\u001b[0;34m]\u001b[0m\u001b[0;34m,\u001b[0m \u001b[0mlabel\u001b[0m \u001b[0;34m=\u001b[0m \u001b[0;34m\"Acceptance rate\"\u001b[0m\u001b[0;34m)\u001b[0m\u001b[0;34m\u001b[0m\u001b[0;34m\u001b[0m\u001b[0m\n\u001b[0m\u001b[1;32m     24\u001b[0m \u001b[0max3\u001b[0m\u001b[0;34m.\u001b[0m\u001b[0mplot\u001b[0m\u001b[0;34m(\u001b[0m\u001b[0mmc\u001b[0m\u001b[0;34m[\u001b[0m\u001b[0;34m:\u001b[0m\u001b[0;34m,\u001b[0m\u001b[0;36m0\u001b[0m\u001b[0;34m]\u001b[0m\u001b[0;34m,\u001b[0m \u001b[0mmc\u001b[0m\u001b[0;34m[\u001b[0m\u001b[0;34m:\u001b[0m\u001b[0;34m,\u001b[0m\u001b[0;36m2\u001b[0m\u001b[0;34m]\u001b[0m\u001b[0;34m,\u001b[0m \u001b[0mlabel\u001b[0m \u001b[0;34m=\u001b[0m \u001b[0;34m\"Average minimum distance\"\u001b[0m\u001b[0;34m)\u001b[0m\u001b[0;34m\u001b[0m\u001b[0;34m\u001b[0m\u001b[0m\n\u001b[1;32m     25\u001b[0m \u001b[0max3\u001b[0m\u001b[0;34m.\u001b[0m\u001b[0mlegend\u001b[0m\u001b[0;34m(\u001b[0m\u001b[0;34m)\u001b[0m\u001b[0;34m\u001b[0m\u001b[0;34m\u001b[0m\u001b[0m\n",
      "\u001b[0;31mIndexError\u001b[0m: too many indices for array: array is 1-dimensional, but 2 were indexed"
     ]
    },
    {
     "data": {
      "image/png": "[encoded data removed]",
      "text/plain": [
       "<Figure size 432x288 with 2 Axes>"
      ]
     },
     "metadata": {
      "needs_background": "light"
     },
     "output_type": "display_data"
    }
   ],
   "source": [
    "L= float(par[2])\n",
    "\n",
    "fig = plt.figure()\n",
    "ax1 = fig.add_subplot(321, projection='3d')\n",
    "ax1.set_title(\"Particle configuration\")\n",
    "# s = size of the spheres. For the sake of visualization it might be useful to reduce it sometimes\n",
    "ax1.set_xlim(-L/2,L/2)\n",
    "ax1.set_ylim(-L/2,L/2)\n",
    "ax1.set_zlim(-L/2,L/2)\n",
    "ax1.scatter(data[:,2],data[:,3],data[:,4],s=0.1*(fig.dpi/L)**2) \n",
    "\n",
    "\"\"\"\n",
    "ax2 = fig.add_subplot(322)\n",
    "ax2.set_title(\"Radial distribution function\")\n",
    "ax2.set_xlabel(\"r\")\n",
    "ax2.set_ylabel(\"RDF\")\n",
    "ax2.plot(RDF[:,0], RDF[:,1])\n",
    "\"\"\"\n",
    "\n",
    "ax3 = fig.add_subplot(323)\n",
    "ax3.set_title(\"Monte Carlo Simulation\")\n",
    "ax3.set_xlabel(\"Monte Carlo Move\")\n",
    "ax3.plot(mc[:,0], mc[:,1], label = \"Acceptance rate\")\n",
    "ax3.plot(mc[:,0], mc[:,2], label = \"Average minimum distance\")\n",
    "ax3.legend()\n",
    "\n",
    "ax4 = fig.add_subplot(324)\n",
    "ax4.set_title(\"Total energy\")\n",
    "ax4.set_xlabel(\"Md step\")\n",
    "ax4.set_ylabel(\"Energy\")\n",
    "ax4.plot(en[:,0], en[:,3])\n",
    "\n",
    "ax5 = fig.add_subplot(325)\n",
    "ax5.set_title(\"Kinetic energy\")\n",
    "ax5.set_xlabel(\"Md step\")\n",
    "ax5.set_ylabel(\"Energy\")\n",
    "ax5.plot(en[:,0], en[:,1])\n",
    "\n",
    "ax6 = fig.add_subplot(326)\n",
    "ax6.set_title(\"Potential energy\")\n",
    "ax6.set_xlabel(\"Md step\")\n",
    "ax6.set_ylabel(\"Energy\")\n",
    "ax6.plot(en[:,0], en[:,2])\n",
    "\n",
    "\n",
    "fig.tight_layout()\n",
    "plt.show()\n",
    "\n",
    "\n",
    "\n"
   ]
  }
 ],
 "metadata": {
  "kernelspec": {
   "display_name": "Python 3",
   "language": "python",
   "name": "python3"
  },
  "language_info": {
   "codemirror_mode": {
    "name": "ipython",
    "version": 3
   },
   "file_extension": ".py",
   "mimetype": "text/x-python",
   "name": "python",
   "nbconvert_exporter": "python",
   "pygments_lexer": "ipython3",
   "version": "3.8.8"
  }
 },
 "nbformat": 4,
 "nbformat_minor": 5
}
